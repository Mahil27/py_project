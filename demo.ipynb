{
 "cells": [
  {
   "cell_type": "markdown",
   "metadata": {},
   "source": [
    "CALCULATOR"
   ]
  },
  {
   "cell_type": "code",
   "execution_count": 1,
   "metadata": {},
   "outputs": [
    {
     "name": "stdout",
     "output_type": "stream",
     "text": [
      "Select operation:\n",
      "1. Add\n",
      "2. Subtract\n",
      "3. Multiply\n",
      "4. Divide\n",
      "Result: 40.0\n"
     ]
    }
   ],
   "source": [
    "def add(x, y):\n",
    "    return x + y\n",
    "\n",
    "def subtract(x, y):\n",
    "    return x - y\n",
    "\n",
    "def multiply(x, y):\n",
    "    return x * y\n",
    "\n",
    "def divide(x, y):\n",
    "    if y == 0:\n",
    "        return \"Cannot divide by zero\"\n",
    "    return x / y\n",
    "\n",
    "print(\"Select operation:\")\n",
    "print(\"1. Add\")\n",
    "print(\"2. Subtract\")\n",
    "print(\"3. Multiply\")\n",
    "print(\"4. Divide\")\n",
    "\n",
    "while True:\n",
    "    ch = input(\"Enter choice (1/2/3/4): \")\n",
    "\n",
    "    if ch in ('1', '2', '3', '4'):\n",
    "        num1 = float(input(\"Enter first number: \"))\n",
    "        num2 = float(input(\"Enter second number: \"))\n",
    "\n",
    "        if ch== '1':\n",
    "            print(\"Result:\", add(num1, num2))\n",
    "        elif ch == '2':\n",
    "            print(\"Result:\", subtract(num1, num2))\n",
    "        elif ch == '3':\n",
    "            print(\"Result:\", multiply(num1, num2))\n",
    "        elif ch == '4':\n",
    "            print(\"Result:\", divide(num1, num2))\n",
    "        break\n",
    "    else:\n",
    "        print(\"Invalid Input\")\n"
   ]
  },
  {
   "cell_type": "markdown",
   "metadata": {},
   "source": [
    "VOTING SYSTEM"
   ]
  },
  {
   "cell_type": "code",
   "execution_count": 2,
   "metadata": {},
   "outputs": [
    {
     "name": "stdout",
     "output_type": "stream",
     "text": [
      "press 1 to vote BJP\n",
      "press 2 to vote Congress\n",
      "press 3 to vote AAP\n",
      "press 3 to vote NOTA\n",
      "you voted for BJP\n"
     ]
    }
   ],
   "source": [
    "age=int(input('enter your age'))\n",
    "if age>=18 :\n",
    "    print('press 1 to vote BJP')\n",
    "    print('press 2 to vote Congress')\n",
    "    print('press 3 to vote AAP')\n",
    "    print('press 3 to vote NOTA')\n",
    "    ch=int(input('enter your vote'))\n",
    "    if ch==1:\n",
    "        print('you voted for BJP')\n",
    "    elif ch==2:\n",
    "        print('you voted for Congress')\n",
    "    elif ch==3:\n",
    "        print('you voted for  AAP')\n",
    "    elif ch==4:\n",
    "        print('you voted for NOTA')\n",
    "    else:\n",
    "        print('INVALID CHOICE')\n",
    "else:\n",
    "    print('You are not eligible to vote')"
   ]
  },
  {
   "cell_type": "markdown",
   "metadata": {},
   "source": [
    "GRADING SYSTEM"
   ]
  },
  {
   "cell_type": "code",
   "execution_count": 5,
   "metadata": {},
   "outputs": [
    {
     "name": "stdout",
     "output_type": "stream",
     "text": [
      "79.60000000000001\n",
      "mahil has got B grade\n"
     ]
    }
   ],
   "source": [
    "name=input('enter student name')\n",
    "eng=float(input('enter marks of english'))\n",
    "maths=float(input('enter marks of maths'))\n",
    "physics=float(input('enter marks of physics'))\n",
    "python=float(input('enter marks of python'))\n",
    "chemistry=float(input('enter marks of Chemistry'))\n",
    "marks=((eng+python+maths+chemistry+physics)/500)*100\n",
    "print(marks)\n",
    "if marks>=90 and marks<=100:\n",
    "    print(name,'has got A grade')\n",
    "elif marks>=70 and marks<=89:\n",
    "    print(name,'has got B grade')\n",
    "elif marks>=40 and marks<=69:\n",
    "    print(name,'has got C grade ')\n",
    "elif marks<40:\n",
    "    print(name,'has got F grade')\n"
   ]
  },
  {
   "cell_type": "markdown",
   "metadata": {},
   "source": [
    "NUMBER SYSTEM"
   ]
  },
  {
   "cell_type": "code",
   "execution_count": 6,
   "metadata": {},
   "outputs": [
    {
     "name": "stdout",
     "output_type": "stream",
     "text": [
      "to print in forward order press 1 \n",
      "to print in reverse order press 2\n",
      "to print vertically press 3\n",
      "to print horizontally press 4\n",
      "5 6 7 8 9 10 "
     ]
    }
   ],
   "source": [
    "sp=int(input('enter starting point '))\n",
    "ep=int(input('enter ending point'))\n",
    "print('to print in forward order press 1 ')\n",
    "print('to print in reverse order press 2')\n",
    "ch=int(input('enter your choice'))\n",
    "if ch==1:\n",
    "    print('to print vertically press 3')\n",
    "    print('to print horizontally press 4')\n",
    "    a=int(input('enter your choice'))\n",
    "    if a==3:\n",
    "        for i in range(sp,ep+1,1):\n",
    "            print(i)\n",
    "    elif a==4:\n",
    "        for i in range(sp,ep+1,1):\n",
    "            print(i,end=' ')\n",
    "    else:\n",
    "        print('INVALID CHOICE')\n",
    "elif ch==2:\n",
    "    print('to print vertically press 5')\n",
    "    print('to print horizontally press 6')\n",
    "    b=int(input('enter your choice'))\n",
    "    if b==5:\n",
    "        for i in range(ep,sp+1,1):\n",
    "            print(i)\n",
    "    elif b==6:\n",
    "        for i in range(ep,sp+1,1):\n",
    "            print(i,end=' ')\n",
    "    else:\n",
    "        print('INVALID CHOICE')\n",
    "else:\n",
    "    print('INVALID CHOICE')\n",
    "\n"
   ]
  },
  {
   "cell_type": "markdown",
   "metadata": {},
   "source": [
    "ROLL AND A DICE"
   ]
  },
  {
   "cell_type": "code",
   "execution_count": null,
   "metadata": {},
   "outputs": [],
   "source": [
    "import random\n",
    "\n",
    "def roll_dice():\n",
    "    return random.randint(1, 6)\n",
    "result = roll_dice()\n",
    "print(\"You rolled a\", result)\n"
   ]
  },
  {
   "cell_type": "markdown",
   "metadata": {},
   "source": [
    "ROCK , PAPER AND SCISSOR"
   ]
  },
  {
   "cell_type": "code",
   "execution_count": null,
   "metadata": {},
   "outputs": [],
   "source": [
    "import random\n",
    "\n",
    "def get_user_choice():\n",
    "    while True:\n",
    "        user_choice = input(\"Enter your choice (rock, paper, scissors): \").lower()\n",
    "        if user_choice in ['rock', 'paper', 'scissors']:\n",
    "            return user_choice\n",
    "        else:\n",
    "            print(\"Invalid choice. Please enter rock, paper, or scissors.\")\n",
    "\n",
    "def get_computer_choice():\n",
    "    return random.choice(['rock', 'paper', 'scissors'])\n",
    "\n",
    "def determine_winner(user_choice, computer_choice):\n",
    "    if user_choice == computer_choice:\n",
    "        return \"It's a tie!\"\n",
    "    elif (user_choice == 'rock' and computer_choice == 'scissors') or \\\n",
    "         (user_choice == 'paper' and computer_choice == 'rock') or \\\n",
    "         (user_choice == 'scissors' and computer_choice == 'paper'):\n",
    "        return \"You win!\"\n",
    "    else:\n",
    "        return \"Computer wins!\"\n",
    "def play_game():\n",
    "    user_choice = get_user_choice()\n",
    "    computer_choice = get_computer_choice()\n",
    "    print(\"You chose:\", user_choice)\n",
    "    print(\"Computer chose:\", computer_choice)\n",
    "    print(determine_winner(user_choice, computer_choice))\n",
    "play_game()\n"
   ]
  },
  {
   "cell_type": "markdown",
   "metadata": {},
   "source": [
    "INVENTORY SORTING SYSTEM"
   ]
  },
  {
   "cell_type": "code",
   "execution_count": 7,
   "metadata": {},
   "outputs": [
    {
     "name": "stdout",
     "output_type": "stream",
     "text": [
      "{'lays': 20, 'coke': 40, 'pastry': 60, 'apple': 320, 'mangoes': 120, 'kurkure': 20, 'nachos': 20, 'coffee': 40}\n"
     ]
    },
    {
     "ename": "KeyError",
     "evalue": "''",
     "output_type": "error",
     "traceback": [
      "\u001b[1;31m---------------------------------------------------------------------------\u001b[0m",
      "\u001b[1;31mKeyError\u001b[0m                                  Traceback (most recent call last)",
      "Cell \u001b[1;32mIn[7], line 10\u001b[0m\n\u001b[0;32m      8\u001b[0m a\u001b[38;5;241m=\u001b[39m\u001b[38;5;28minput\u001b[39m(\u001b[38;5;124m'\u001b[39m\u001b[38;5;124menter item name:\u001b[39m\u001b[38;5;124m'\u001b[39m)\n\u001b[0;32m      9\u001b[0m b\u001b[38;5;241m=\u001b[39m\u001b[38;5;28mint\u001b[39m(\u001b[38;5;28minput\u001b[39m(\u001b[38;5;124m'\u001b[39m\u001b[38;5;124menter no. of items to buy:\u001b[39m\u001b[38;5;124m'\u001b[39m))\n\u001b[1;32m---> 10\u001b[0m \u001b[38;5;28;01mif\u001b[39;00m money\u001b[38;5;241m>\u001b[39m\u001b[38;5;241m=\u001b[39mb\u001b[38;5;241m*\u001b[39m\u001b[43mmenu\u001b[49m\u001b[43m[\u001b[49m\u001b[43ma\u001b[49m\u001b[43m]\u001b[49m:\n\u001b[0;32m     11\u001b[0m     \u001b[38;5;28msum\u001b[39m\u001b[38;5;241m+\u001b[39m\u001b[38;5;241m=\u001b[39mb\u001b[38;5;241m*\u001b[39mmenu[a]\n\u001b[0;32m     12\u001b[0m     inventory\u001b[38;5;241m.\u001b[39mupdate({a:(b\u001b[38;5;241m*\u001b[39mmenu[a])})\n",
      "\u001b[1;31mKeyError\u001b[0m: ''"
     ]
    }
   ],
   "source": [
    "menu={'lays':20,'coke':40,'pastry':60,'apple':320,'mangoes':120,'kurkure':20,'nachos':20,'coffee':40}\n",
    "print(menu)\n",
    "money=int(input('enter how much money you have to spend:'))\n",
    "inventory={} \n",
    "sum=0\n",
    "n=int(input('enter no. of items in inventory:'))\n",
    "for i in range(n):\n",
    "    a=input('enter item name:')\n",
    "    b=int(input('enter no. of items to buy:'))\n",
    "    if money>=b*menu[a]:\n",
    "        sum+=b*menu[a]\n",
    "        inventory.update({a:(b*menu[a])})\n",
    "    else:\n",
    "        print('insufficient balance')\n",
    "        break\n",
    "c=money-sum\n",
    "print('amount remaining:',c)\n",
    "print(inventory)"
   ]
  }
 ],
 "metadata": {
  "kernelspec": {
   "display_name": "Python 3",
   "language": "python",
   "name": "python3"
  },
  "language_info": {
   "codemirror_mode": {
    "name": "ipython",
    "version": 3
   },
   "file_extension": ".py",
   "mimetype": "text/x-python",
   "name": "python",
   "nbconvert_exporter": "python",
   "pygments_lexer": "ipython3",
   "version": "3.12.1"
  }
 },
 "nbformat": 4,
 "nbformat_minor": 2
}
